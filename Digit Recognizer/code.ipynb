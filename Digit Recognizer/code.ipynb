{
 "cells": [
  {
   "cell_type": "code",
   "execution_count": 21,
   "metadata": {},
   "outputs": [],
   "source": [
    "import torch\n",
    "from torch import nn\n",
    "import pandas as pd\n",
    "import math\n",
    "import matplotlib.pyplot as plt\n",
    "from sklearn.model_selection import train_test_split\n",
    "from torch.utils.data import TensorDataset, DataLoader, Dataset"
   ]
  },
  {
   "cell_type": "code",
   "execution_count": 22,
   "metadata": {},
   "outputs": [],
   "source": [
    "EPOCHS =10\n",
    "BATCH_SIZE=32"
   ]
  },
  {
   "cell_type": "code",
   "execution_count": 23,
   "metadata": {},
   "outputs": [],
   "source": [
    "def train_model(model, train_loader, loss_func, optimizer):\n",
    "    model.train()\n",
    "    running_loss = 0\n",
    "    correct = 0\n",
    "    total = 0\n",
    "    \n",
    "    for images, labels in train_loader:\n",
    "        optimizer.zero_grad()\n",
    "        outputs = model(images)\n",
    "        loss = loss_func(outputs, labels)\n",
    "\n",
    "        loss.backward()\n",
    "        optimizer.step()\n",
    "\n",
    "        running_loss += loss.item()\n",
    "        _, predicted = outputs.max(1)\n",
    "        total += labels.size(0)\n",
    "        correct += predicted.eq(labels).sum().item()\n",
    "\n",
    "    epoch_loss = running_loss / len(train_loader)\n",
    "    accuracy = 100 * correct / total\n",
    "\n",
    "    return epoch_loss, accuracy\n",
    "\n",
    "def validate_model(model, val_loader, loss_func):\n",
    "    model.eval()\n",
    "    val_loss = 0\n",
    "    correct = 0\n",
    "    total = 0\n",
    "\n",
    "    with torch.inference_mode():\n",
    "        for images, labels in val_loader:\n",
    "            outputs = model(images)\n",
    "            loss = loss_func(outputs, labels)\n",
    "\n",
    "            val_loss += loss.item()\n",
    "            _, predicted = outputs.max(1)\n",
    "            total += labels.size(0)\n",
    "            correct += predicted.eq(labels).sum().item()\n",
    "\n",
    "    epoch_loss = val_loss / len(val_loader)\n",
    "    accuracy = 100.0 * correct / total\n",
    "    return epoch_loss, accuracy"
   ]
  },
  {
   "cell_type": "code",
   "execution_count": 24,
   "metadata": {},
   "outputs": [],
   "source": [
    "class DigitDataset(Dataset):\n",
    "    def __init__(self, X, y=None, transform=None):\n",
    "        self.X = X\n",
    "        self.y = y\n",
    "        self.transform = transform\n",
    "\n",
    "    def __len__(self):\n",
    "        return len(self.X)\n",
    "\n",
    "    def __getitem__(self, idx):\n",
    "        image = self.X[idx].astype('float32')\n",
    "        image = torch.tensor(image).unsqueeze(0)  # Add channel dimension\n",
    "\n",
    "        if self.y is not None:\n",
    "            label = torch.tensor(self.y[idx].astype('int64'))  # Cast labels to torch.long\n",
    "            return image, label\n",
    "        else:\n",
    "            return image"
   ]
  },
  {
   "cell_type": "code",
   "execution_count": 25,
   "metadata": {},
   "outputs": [],
   "source": [
    "train_data = pd.read_csv('./data/train.csv')\n",
    "test_data = pd.read_csv('./data/test.csv')"
   ]
  },
  {
   "cell_type": "code",
   "execution_count": 26,
   "metadata": {},
   "outputs": [],
   "source": [
    "# train_data.head()\n",
    "# train_data['label']"
   ]
  },
  {
   "cell_type": "code",
   "execution_count": 27,
   "metadata": {},
   "outputs": [
    {
     "name": "stdout",
     "output_type": "stream",
     "text": [
      "(42000, 784)\n",
      "(42000, 28, 28)\n"
     ]
    }
   ],
   "source": [
    "# reshape data into image format\n",
    "train_data_label = train_data['label'].values.astype('float32')\n",
    "train_data_image = train_data.drop('label', axis=1).values.astype('float32')\n",
    "print(train_data_image.shape)\n",
    "train_data_image_reshaped = train_data_image.reshape(-1, int(math.sqrt(train_data_image.shape[1])), int(math.sqrt(train_data_image.shape[1])))\n",
    "print(train_data_image_reshaped.shape)"
   ]
  },
  {
   "cell_type": "code",
   "execution_count": 28,
   "metadata": {},
   "outputs": [
    {
     "name": "stdout",
     "output_type": "stream",
     "text": [
      "(33600, 28, 28)\n",
      "(8400, 28, 28)\n"
     ]
    }
   ],
   "source": [
    "\n",
    "X_train, X_val, y_train, y_val = train_test_split(train_data_image_reshaped, train_data_label, test_size = 0.2, random_state=42)\n",
    "X_train = X_train / 255\n",
    "X_val = X_val / 255\n",
    "\n",
    "print(X_train.shape)\n",
    "print(X_val.shape)"
   ]
  },
  {
   "cell_type": "code",
   "execution_count": 29,
   "metadata": {},
   "outputs": [],
   "source": [
    "class model_0(nn.Module):\n",
    "    def __init__(self):\n",
    "        super().__init__()\n",
    "        self.flatten = nn.Flatten()\n",
    "        self.fc1 = nn.Linear(28*28, 128)\n",
    "        self.fc2 = nn.Linear(128, 64)\n",
    "        self.fc3 = nn.Linear(64, 10)\n",
    "\n",
    "    def forward(self, x):\n",
    "        x = self.flatten(x)\n",
    "        x = torch.relu(self.fc1(x))\n",
    "        x = torch.relu(self.fc2(x))\n",
    "        x = self.fc3(x)  # Output layer, no activation needed for logits\n",
    "        return x"
   ]
  },
  {
   "cell_type": "code",
   "execution_count": 30,
   "metadata": {},
   "outputs": [],
   "source": [
    "class model_1(nn.Module):\n",
    "    def __init__(self):\n",
    "        super().__init__()\n",
    "        self.conv1 = nn.Conv2d(1, 32, kernel_size=3, stride=1, padding=1)\n",
    "        self.conv2 = nn.Conv2d(32, 64, kernel_size=3, stride=1, padding=1)\n",
    "        self.conv3 = nn.Conv2d(64, 128, kernel_size=3, stride=1, padding=1)\n",
    "        self.pool = nn.MaxPool2d(2, 2)\n",
    "        self.fc1 = nn.Linear(128 * 3 * 3, 256)\n",
    "        self.fc2 = nn.Linear(256, 64)\n",
    "        self.fc3 = nn.Linear(64, 10)\n",
    "        self.dropout = nn.Dropout(0.5)\n",
    "        self.batch_norm1 = nn.BatchNorm2d(32)\n",
    "        self.batch_norm2 = nn.BatchNorm2d(64)\n",
    "        self.batch_norm3 = nn.BatchNorm2d(128)\n",
    "\n",
    "    def forward(self, x):\n",
    "        x = self.pool(torch.relu(self.batch_norm1(self.conv1(x))))\n",
    "        x = self.pool(torch.relu(self.batch_norm2(self.conv2(x))))\n",
    "        x = self.pool(torch.relu(self.batch_norm3(self.conv3(x))))\n",
    "        x = x.view(-1, 128 * 3 * 3)  # Flatten the tensor\n",
    "        x = torch.relu(self.fc1(x))\n",
    "        x = self.dropout(x)  # Dropout to prevent overfitting\n",
    "        x = torch.relu(self.fc2(x))\n",
    "        x = self.fc3(x)  # Output layer, no activation for logits\n",
    "        return x"
   ]
  },
  {
   "cell_type": "code",
   "execution_count": 31,
   "metadata": {},
   "outputs": [],
   "source": [
    "# class model_2(nn.Module):\n",
    "#     def __init__(self):\n",
    "#         super().__init__()\n",
    "        \n",
    "#         self.conv1 = nn.Conv2d(in_channels=1, out_channels=64, kernel_size=3, stride=1, padding=1)\n",
    "#         self.conv2 = nn.Conv2d(in_channels=64, out_channels=128, kernel_size=3, stride=1, padding=1)\n",
    "#         # self.conv3 = nn.Conv2d(in_channels=256, out_channels=256, kernel_size=3, stride=1, padding=1)\n",
    "#         self.conv4 = nn.Conv2d(in_channels=128, out_channels=32, kernel_size=3, stride=1, padding=1)\n",
    "#         self.pool = nn.MaxPool2d(kernel_size=2, stride=2)\n",
    "\n",
    "#         self.flatten = nn.Flatten()\n",
    "#         self.fc1 = nn.Linear(32 * 1 * 1, 64)\n",
    "#         self.dropout = nn.Dropout(0.2)\n",
    "#         self.fc2 = nn.Linear(64, 10)\n",
    "\n",
    "#     def forward(self, x):\n",
    "#         # Base\n",
    "#         x = torch.relu(self.conv1(x))\n",
    "#         # x = self.pool(x)\n",
    "        \n",
    "#         x = torch.relu(self.conv2(x))\n",
    "#         x = self.pool(x)\n",
    "\n",
    "#         x = torch.relu(self.conv3(x))\n",
    "#         x = self.pool(x)\n",
    "        \n",
    "#         x = torch.relu(self.conv4(x))\n",
    "#         x = self.pool(x)\n",
    "        \n",
    "#         # Head\n",
    "#         x = self.flatten(x)\n",
    "#         x = torch.relu(self.fc1(x))\n",
    "#         x = self.dropout(x)\n",
    "#         x = self.fc2(x)\n",
    "\n",
    "#         return torch.relu(x, dim=1)"
   ]
  },
  {
   "cell_type": "code",
   "execution_count": 32,
   "metadata": {},
   "outputs": [],
   "source": [
    "class model_2(nn.Module):\n",
    "    def __init__(self):\n",
    "        super().__init__()\n",
    "\n",
    "        self.layer_stack = nn.Sequential(\n",
    "            nn.Conv2d(in_channels=1,  out_channels=128, kernel_size=3, padding=1),\n",
    "            # nn.BatchNorm2d(128),\n",
    "            nn.ReLU(),\n",
    "            nn.MaxPool2d(kernel_size=2),\n",
    "\n",
    "            nn.Conv2d(in_channels=128, out_channels=256, kernel_size=3, padding=1),\n",
    "            # nn.BatchNorm2d(256),\n",
    "            nn.ReLU(),\n",
    "\n",
    "            nn.MaxPool2d(kernel_size=2),\n",
    "\n",
    "            nn.Conv2d(in_channels=256, out_channels=256, kernel_size=3, padding=1),\n",
    "            # nn.BatchNorm2d(256),\n",
    "            nn.ReLU(),\n",
    "            nn.MaxPool2d(kernel_size=2),\n",
    "\n",
    "            nn.Conv2d(in_channels=256, out_channels=32, kernel_size=3, padding=1),\n",
    "            # nn.BatchNorm2d(32),\n",
    "            nn.ReLU(),\n",
    "            nn.MaxPool2d(kernel_size=2, stride=2),\n",
    "\n",
    "            nn.Flatten(),\n",
    "            nn.Linear(32 * 1 * 1, 64),\n",
    "            nn.ReLU(),\n",
    "            nn.Dropout(0.3),\n",
    "            nn.Linear(64, 10)\n",
    "        )\n",
    "\n",
    "    def forward(self, x):\n",
    "        x = self.layer_stack(x)\n",
    "        return torch.softmax(x, dim=1)"
   ]
  },
  {
   "cell_type": "code",
   "execution_count": 33,
   "metadata": {},
   "outputs": [],
   "source": [
    "model_0 = model_0()\n",
    "model_1 = model_1()\n",
    "model_2 = model_2()\n",
    "loss_func = nn.CrossEntropyLoss()\n",
    "optimizer_0 = torch.optim.SGD(params=model_0.parameters(), lr=0.1)\n",
    "optimizer_1 = torch.optim.Adam(params=model_1.parameters(), lr=0.001)\n",
    "optimizer_2 = torch.optim.Adam(params=model_2.parameters(), lr=0.001)"
   ]
  },
  {
   "cell_type": "code",
   "execution_count": 34,
   "metadata": {},
   "outputs": [],
   "source": [
    "train_dataset = DigitDataset(X_train, y_train)\n",
    "val_dataset = DigitDataset(X_val, y_val)"
   ]
  },
  {
   "cell_type": "code",
   "execution_count": 35,
   "metadata": {},
   "outputs": [],
   "source": [
    "train_dataloader = DataLoader(train_dataset, batch_size=BATCH_SIZE, shuffle=True)\n",
    "val_dataloader = DataLoader(val_dataset, batch_size=BATCH_SIZE, shuffle=False)\n"
   ]
  },
  {
   "cell_type": "code",
   "execution_count": 36,
   "metadata": {},
   "outputs": [],
   "source": [
    "model = model_2\n",
    "optimizer = optimizer_2"
   ]
  },
  {
   "cell_type": "code",
   "execution_count": 37,
   "metadata": {},
   "outputs": [
    {
     "name": "stdout",
     "output_type": "stream",
     "text": [
      "Epoch 1/30: Train Loss: 1.7143, Train Acc: 74.52%, Val Loss: 1.5140, Val Acc: 94.73%\n",
      "Epoch 2/30: Train Loss: 1.5135, Train Acc: 94.85%, Val Loss: 1.5094, Val Acc: 95.11%\n",
      "Epoch 3/30: Train Loss: 1.4978, Train Acc: 96.37%, Val Loss: 1.4887, Val Acc: 97.31%\n",
      "Epoch 4/30: Train Loss: 1.4945, Train Acc: 96.68%, Val Loss: 1.4846, Val Acc: 97.69%\n",
      "Epoch 5/30: Train Loss: 1.4902, Train Acc: 97.05%, Val Loss: 1.4818, Val Acc: 97.95%\n",
      "Epoch 6/30: Train Loss: 1.4859, Train Acc: 97.51%, Val Loss: 1.4807, Val Acc: 98.07%\n",
      "Epoch 7/30: Train Loss: 1.4874, Train Acc: 97.38%, Val Loss: 1.4791, Val Acc: 98.20%\n",
      "Epoch 8/30: Train Loss: 1.4839, Train Acc: 97.75%, Val Loss: 1.4927, Val Acc: 96.83%\n",
      "Epoch 9/30: Train Loss: 1.4841, Train Acc: 97.68%, Val Loss: 1.4882, Val Acc: 97.30%\n",
      "Epoch 10/30: Train Loss: 1.4890, Train Acc: 97.21%, Val Loss: 1.4830, Val Acc: 97.86%\n",
      "Epoch 11/30: Train Loss: 1.4869, Train Acc: 97.42%, Val Loss: 1.4814, Val Acc: 97.99%\n",
      "Epoch 12/30: Train Loss: 1.4865, Train Acc: 97.46%, Val Loss: 1.4853, Val Acc: 97.60%\n",
      "Epoch 13/30: Train Loss: 1.4972, Train Acc: 96.40%, Val Loss: 1.4879, Val Acc: 97.35%\n",
      "Epoch 14/30: Train Loss: 1.4876, Train Acc: 97.36%, Val Loss: 1.5009, Val Acc: 96.02%\n",
      "Epoch 15/30: Train Loss: 1.4901, Train Acc: 97.10%, Val Loss: 1.4844, Val Acc: 97.69%\n",
      "Epoch 16/30: Train Loss: 1.4915, Train Acc: 96.97%, Val Loss: 1.4845, Val Acc: 97.68%\n",
      "Epoch 17/30: Train Loss: 1.4917, Train Acc: 96.94%, Val Loss: 1.4861, Val Acc: 97.51%\n",
      "Epoch 18/30: Train Loss: 1.4937, Train Acc: 96.74%, Val Loss: 1.4858, Val Acc: 97.52%\n",
      "Epoch 19/30: Train Loss: 1.4862, Train Acc: 97.50%, Val Loss: 1.5239, Val Acc: 93.74%\n",
      "Epoch 20/30: Train Loss: 1.5059, Train Acc: 95.51%, Val Loss: 1.5079, Val Acc: 95.32%\n",
      "Epoch 21/30: Train Loss: 1.4989, Train Acc: 96.22%, Val Loss: 1.4838, Val Acc: 97.73%\n",
      "Epoch 22/30: Train Loss: 1.5001, Train Acc: 96.10%, Val Loss: 1.5071, Val Acc: 95.40%\n",
      "Epoch 23/30: Train Loss: 1.4869, Train Acc: 97.42%, Val Loss: 1.4818, Val Acc: 97.93%\n",
      "Epoch 24/30: Train Loss: 1.4915, Train Acc: 96.96%, Val Loss: 1.4821, Val Acc: 97.90%\n",
      "Epoch 25/30: Train Loss: 1.4875, Train Acc: 97.36%, Val Loss: 1.4868, Val Acc: 97.44%\n",
      "Epoch 26/30: Train Loss: 1.4942, Train Acc: 96.69%, Val Loss: 1.4933, Val Acc: 96.81%\n",
      "Epoch 27/30: Train Loss: 1.4887, Train Acc: 97.24%, Val Loss: 1.4826, Val Acc: 97.87%\n",
      "Epoch 28/30: Train Loss: 1.4957, Train Acc: 96.54%, Val Loss: 1.5388, Val Acc: 92.25%\n",
      "Epoch 29/30: Train Loss: 1.4882, Train Acc: 97.29%, Val Loss: 1.4902, Val Acc: 97.11%\n",
      "Epoch 30/30: Train Loss: 1.4919, Train Acc: 96.93%, Val Loss: 1.4895, Val Acc: 97.17%\n"
     ]
    },
    {
     "data": {
      "image/png": "[encoded data removed]",
      "text/plain": [
       "<Figure size 640x480 with 1 Axes>"
      ]
     },
     "metadata": {},
     "output_type": "display_data"
    }
   ],
   "source": [
    "train_losses = []\n",
    "val_losses = []\n",
    "\n",
    "for epoch in range(EPOCHS):\n",
    "    train_loss, train_accuracy = train_model(model, train_dataloader, loss_func, optimizer)\n",
    "    val_loss, val_accuracy = validate_model(model, val_dataloader, loss_func)\n",
    "\n",
    "    train_losses.append(train_loss)\n",
    "    val_losses.append(val_loss)\n",
    "\n",
    "    print(f'Epoch {epoch+1}/{EPOCHS}: '\n",
    "          f'Train Loss: {train_loss:.4f}, Train Acc: {train_accuracy:.2f}%, '\n",
    "          f'Val Loss: {val_loss:.4f}, Val Acc: {val_accuracy:.2f}%')\n",
    "          \n",
    "\n",
    "# Plotting training and validation loss\n",
    "plt.plot(train_losses, label='Training Loss')\n",
    "plt.plot(val_losses, label='Validation Loss')\n",
    "plt.title('Training and Validation Loss')\n",
    "plt.xlabel('Epoch')\n",
    "plt.ylabel('Loss')\n",
    "plt.legend()\n",
    "plt.show()\n",
    "\n",
    "    "
   ]
  },
  {
   "cell_type": "code",
   "execution_count": 38,
   "metadata": {},
   "outputs": [
    {
     "name": "stdout",
     "output_type": "stream",
     "text": [
      "(28000, 28, 28)\n"
     ]
    }
   ],
   "source": [
    "test_data_reshaped = test_data.values.reshape(-1, int(math.sqrt(test_data.shape[1])), int(math.sqrt(test_data.shape[1])))\n",
    "print(test_data_reshaped.shape)\n",
    "test_dataset = DigitDataset(test_data_reshaped)\n",
    "test_dataloader = DataLoader(test_dataset, batch_size=BATCH_SIZE, shuffle=False)"
   ]
  },
  {
   "cell_type": "code",
   "execution_count": 39,
   "metadata": {},
   "outputs": [],
   "source": [
    "def predict(model, test_loader):\n",
    "    model.eval()\n",
    "    predictions = []\n",
    "\n",
    "    with torch.inference_mode():\n",
    "        for images in test_loader:\n",
    "            outputs = model(images)\n",
    "            _, predicted = outputs.max(1)\n",
    "            predictions.extend(predicted.numpy())\n",
    "\n",
    "    return predictions "
   ]
  },
  {
   "cell_type": "code",
   "execution_count": 40,
   "metadata": {},
   "outputs": [],
   "source": [
    "test_predictions = predict(model, test_dataloader)\n",
    "\n",
    "# Save predictions to submission file\n",
    "submission_df = pd.DataFrame({'ImageId': range(1, len(test_predictions) + 1), 'Label': test_predictions})\n",
    "submission_df.to_csv('submission.csv', index=False)"
   ]
  },
  {
   "cell_type": "code",
   "execution_count": null,
   "metadata": {},
   "outputs": [],
   "source": []
  }
 ],
 "metadata": {
  "kernelspec": {
   "display_name": "Python 3",
   "language": "python",
   "name": "python3"
  },
  "language_info": {
   "codemirror_mode": {
    "name": "ipython",
    "version": 3
   },
   "file_extension": ".py",
   "mimetype": "text/x-python",
   "name": "python",
   "nbconvert_exporter": "python",
   "pygments_lexer": "ipython3",
   "version": "3.12.5"
  }
 },
 "nbformat": 4,
 "nbformat_minor": 2
}
